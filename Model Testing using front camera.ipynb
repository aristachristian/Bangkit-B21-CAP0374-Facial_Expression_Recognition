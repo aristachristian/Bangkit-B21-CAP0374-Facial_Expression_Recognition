{
 "cells": [
  {
   "cell_type": "code",
   "execution_count": 1,
   "id": "appropriate-falls",
   "metadata": {},
   "outputs": [],
   "source": [
    "import cv2\n",
    "import numpy as np\n",
    "from tensorflow.keras.models import load_model"
   ]
  },
  {
   "cell_type": "code",
   "execution_count": 7,
   "id": "determined-cleanup",
   "metadata": {},
   "outputs": [],
   "source": [
    "#Change the directory name if you use your own model\n",
    "model = load_model(\"./savedModel\")"
   ]
  },
  {
   "cell_type": "code",
   "execution_count": 8,
   "id": "useful-supply",
   "metadata": {},
   "outputs": [],
   "source": [
    "expression = [\"angry\", \"happy\", \"sad\", \"neutral\"]"
   ]
  },
  {
   "cell_type": "code",
   "execution_count": 9,
   "id": "loved-fluid",
   "metadata": {},
   "outputs": [],
   "source": [
    "cam = cv2.VideoCapture(0)\n",
    "faceCascade = cv2.CascadeClassifier(\"Face-Detection-OpenCV-master/data/haarcascade_frontalface_alt.xml\")\n",
    "pressed = 0"
   ]
  },
  {
   "cell_type": "code",
   "execution_count": 10,
   "id": "chronic-culture",
   "metadata": {},
   "outputs": [],
   "source": [
    "while (pressed != 27) : #press esc on your keyboard to quit\n",
    "    _, img = cam.read()\n",
    "    faces = np.array(faceCascade.detectMultiScale(img, 1.1, 4))\n",
    "    \n",
    "    if faces.any() :\n",
    "        x, y, w, h = faces[0]\n",
    "\n",
    "        imgFace = img[y:y + h, x:x + w]\n",
    "        imgFace = cv2.cvtColor(imgFace, cv2.COLOR_BGR2RGB)\n",
    "        imgFace = cv2.resize(imgFace, (48, 48))\n",
    "        imgFace = np.array([imgFace])\n",
    "\n",
    "        pred = model.predict(imgFace)\n",
    "\n",
    "        cv2.rectangle(img, (x, y), (x + w, y + h), (0, 0, 255), 2)\n",
    "        cv2.putText(img, \"{} ({:1.2f}, {:1.2f}, {:1.2f}, {:1.2f})\".format(expression[np.argmax(pred)],\n",
    "            pred[0, 0], pred[0, 1], pred[0, 2], pred[0, 3]),\n",
    "            (x, y + h + 20), cv2.FONT_HERSHEY_SIMPLEX, 0.5, (255, 255, 0), thickness=1)\n",
    "        \n",
    "        cv2.imshow(\"Face\", imgFace[0])\n",
    "        \n",
    "    cv2.imshow('Camera', img)\n",
    "\n",
    "    pressed = cv2.waitKey(25) & 0xFF\n",
    "    \n",
    "    if pressed == 112 : #press 'p' on your keyboard to pause\n",
    "        while (pressed != 32) : #press space on your keyboard to continue\n",
    "            pressed = cv2.waitKey(25) & 0xFF\n",
    "\n",
    "cv2.destroyAllWindows()\n",
    "cam.release()"
   ]
  },
  {
   "cell_type": "code",
   "execution_count": null,
   "id": "lesbian-paradise",
   "metadata": {},
   "outputs": [],
   "source": []
  }
 ],
 "metadata": {
  "kernelspec": {
   "display_name": "Python 3",
   "language": "python",
   "name": "python3"
  },
  "language_info": {
   "codemirror_mode": {
    "name": "ipython",
    "version": 3
   },
   "file_extension": ".py",
   "mimetype": "text/x-python",
   "name": "python",
   "nbconvert_exporter": "python",
   "pygments_lexer": "ipython3",
   "version": "3.8.5"
  }
 },
 "nbformat": 4,
 "nbformat_minor": 5
}
